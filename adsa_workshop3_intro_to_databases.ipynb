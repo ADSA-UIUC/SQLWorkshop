{
 "cells": [
  {
   "cell_type": "markdown",
   "metadata": {},
   "source": [
    "![ADSA Logo](http://i.imgur.com/BV0CdHZ.png?2 \\\"ADSA Logo\\\")"
   ]
  },
  {
   "cell_type": "markdown",
   "metadata": {},
   "source": [
    "# ADSA Workshop 3 - Introduction to Databases and MySQL"
   ]
  },
  {
   "cell_type": "markdown",
   "metadata": {},
   "source": [
    "In this workshop code session, we will write a small program to obtain and visualize weather forecasts for the next 5 days. This program will be done in two parts:\n",
    "1. In the first part, we will collect 5 day weather forecast data and store that data in a MySQL database.\n",
    "2. In the second part, we will read data from this table and then create a visualization of the data."
   ]
  },
  {
   "cell_type": "markdown",
   "metadata": {},
   "source": [
    "***\n",
    "## Setting up the database for this workshop\n",
    "\n",
    "First, log into the `mysql shell` using the following command:\n",
    "\n",
    "    mysql -u root -p\n",
    "    \n",
    "When prompted for the password, use `adsauiuc`. This user and password combination was set on installation.\n",
    "\n",
    "Next, we shall create a new database for this workshop. Type this:\n",
    "\n",
    "    CREATE DATABASE workshop3;\n",
    "    \n",
    "Do not forget the semi-colon at the end! Next, we will create a new user that will have access to modify this database. The password for this user is specified using `IDENTIFIED BY`.\n",
    "\n",
    "    CREATE USER 'wkshp_user'@'localhost' IDENTIFIED BY 'sqlrocks';\n",
    "        \n",
    "We will grant admin permissions to our user on this database using\n",
    "\n",
    "    GRANT ALL ON workshop3.* TO 'wkshp_user'@'localhost';\n",
    "    \n",
    "And then exit the MySQL shell by typing:\n",
    "\n",
    "    quit"
   ]
  },
  {
   "cell_type": "markdown",
   "metadata": {},
   "source": [
    "***\n",
    "## Connecting to our database"
   ]
  },
  {
   "cell_type": "code",
   "execution_count": null,
   "metadata": {
    "collapsed": true
   },
   "outputs": [],
   "source": [
    "# import the MySQLdb module and the modified print function.\n",
    "\n",
    "import MySQLdb as mdb\n",
    "from __future__ import print_function"
   ]
  },
  {
   "cell_type": "code",
   "execution_count": null,
   "metadata": {
    "collapsed": false
   },
   "outputs": [],
   "source": [
    "# create the connect object\n",
    "# parameters are (host, user, password, database)\n",
    "con = mdb.connect('localhost', 'wkshp_user', 'sqlrocks', 'workshop3');\n",
    "\n",
    "with con:\n",
    "    cursor = con.cursor()\n",
    "    cursor.execute(\"SELECT VERSION()\")\n",
    "\n",
    "    ver = cursor.fetchone()\n",
    "    \n",
    "    print(\"Database version : {0}\".format(ver))"
   ]
  },
  {
   "cell_type": "markdown",
   "metadata": {},
   "source": [
    "**NOTE**: When using the `with` syntax, Python automagically manages the resources needed to open a connection to the database and close it. Else our code would look like this:\n",
    "\n",
    "    try:\n",
    "        con = mdb.connect('localhost', 'testuser', 'test623', 'testdb');\n",
    "        cur = con.cursor()\n",
    "        cur.execute(\"SELECT VERSION()\")\n",
    "        ver = cur.fetchone()\n",
    "        print(\"Database version : {0}\".format(ver))\n",
    "    \n",
    "    except mdb.Error, e:\n",
    "        print \"Error %d: %s\" % (e.args[0],e.args[1])\n",
    "        import sys\n",
    "        sys.exit(1)\n",
    "    \n",
    "    finally:\n",
    "        if con:\n",
    "            con.close()"
   ]
  },
  {
   "cell_type": "markdown",
   "metadata": {},
   "source": [
    "***\n",
    "## Getting forecast data from OpenWeatherMap"
   ]
  },
  {
   "cell_type": "markdown",
   "metadata": {},
   "source": [
    "We are going to look at the 5 day weather forecast for Champaign (recorded as city ID `4887158` in OpenWeatherMap's data). The API call we are going to use is `api.openweathermap.org/data/2.5/forecast?id={city_id}`. This call returns weather forecast data for 5 days, with a new datapoint every 3 hours."
   ]
  },
  {
   "cell_type": "markdown",
   "metadata": {},
   "source": [
    "Here is what a sample data point looks like in the `weather_data['list']` array. The objects we are concerned with here are `main['temp_min']`, `main['temp_max']`, `dt_txt`, `weather[0]['main']`, and `weather[0]['description']` which will give us the data and time of the data point.\n",
    "\n",
    "    {\n",
    "        \"dt\":1442728800,\n",
    "        \"main\": {\n",
    "            \"temp\":282.11,\n",
    "            \"temp_min\":282.11,\n",
    "            \"temp_max\":283.319,\n",
    "            \"pressure\":1006.96,\n",
    "            \"sea_level\":1033.48,\n",
    "            \"grnd_level\":1006.96,\n",
    "            \"humidity\":88,\n",
    "            \"temp_kf\":-1.21\n",
    "        },\n",
    "        \"weather\":[\n",
    "            {  \n",
    "                \"id\":800,\n",
    "                \"main\":\"Clear\",\n",
    "                \"description\":\"sky is clear\",\n",
    "                \"icon\":\"01n\"\n",
    "            }\n",
    "        ],\n",
    "        \"clouds\":{\n",
    "            \"all\":0\n",
    "        },\n",
    "        \"wind\":{\n",
    "            \"speed\":1.25,\n",
    "            \"deg\":13.0026\n",
    "        },\n",
    "        \"rain\":{\n",
    "        },\n",
    "        \"sys\":{\n",
    "            \"pod\":\"n\"\n",
    "        },\n",
    "        \"dt_txt\":\"2015-09-20 06:00:00\"\n",
    "    }"
   ]
  },
  {
   "cell_type": "code",
   "execution_count": null,
   "metadata": {
    "collapsed": false
   },
   "outputs": [],
   "source": [
    "# So let's parse this data to a Python Dictionary\n",
    "\n",
    "import urllib2\n",
    "\n",
    "# Champaign, IL has the city_id 4887158\n",
    "url = 'http://api.openweathermap.org/data/2.5/forecast?id=4887158'\n",
    "response = urllib2.urlopen(url)\n",
    "weather_html = response.read()\n",
    "\n",
    "from json import JSONDecoder, dumps\n",
    "\n",
    "decoder = JSONDecoder()\n",
    "weather_data = decoder.decode(weather_html)\n",
    "\n",
    "pretty_weather_data = dumps(weather_data, sort_keys=True, indent=2, separators=(',', ': '))\n",
    "# print(pretty_weather_data)"
   ]
  },
  {
   "cell_type": "markdown",
   "metadata": {},
   "source": [
    "### Extracting Minimum and Maximum Temperatures `(dt_txt, main['temp_min'], main['temp_max'])`"
   ]
  },
  {
   "cell_type": "code",
   "execution_count": null,
   "metadata": {
    "collapsed": false
   },
   "outputs": [],
   "source": [
    "# Python dictionary that stores the list data\n",
    "data_points = weather_data['list']\n",
    "# An empty list that will store pairs of temperature and date-time as (temp, date-time)\n",
    "hourly_temp_list = []\n",
    "\n",
    "for datum in data_points:\n",
    "    dt = datum['dt_txt']\n",
    "    temp_min = datum['main']['temp_min']\n",
    "    temp_max = datum['main']['temp_max']\n",
    "    hour_temp_tuple = (dt, temp_min, temp_max)\n",
    "    hourly_temp_list.append(hour_temp_tuple)\n",
    "    \n",
    "# Print some sample data\n",
    "for i in range(10):\n",
    "    print(hourly_temp_list[i])"
   ]
  },
  {
   "cell_type": "markdown",
   "metadata": {
    "collapsed": true
   },
   "source": [
    "We see that for each day, there are data points starting at 12AM GMT until 9PM GMT. We want to convert this data and store it in the database as shown in this schema:\n",
    "\n",
    "| tempDate | min    | max    |\n",
    "|----------|--------|--------|\n",
    "| 20150920 | 261.63 | 276.77 |\n",
    "| 20140921 | 281.44 | 295.32 |\n",
    "| ...      | ...    | ...    |\n",
    "\n",
    "Note the format of the date, we have removed the hyphens to store it as an integer."
   ]
  },
  {
   "cell_type": "markdown",
   "metadata": {},
   "source": [
    "Here's a pre-written function that will convert the hourly weather data to a day-average format. You do not need to understand how it works, just compile it and see the transformed results."
   ]
  },
  {
   "cell_type": "code",
   "execution_count": null,
   "metadata": {
    "collapsed": false
   },
   "outputs": [],
   "source": [
    "def convert_temp_data_to_schema(data):\n",
    "    '''\n",
    "    This function takes in a list of hourly weather data as (date_time, min_temp, max_temp)\n",
    "    and returns the data as day max and min temps. You DO NOT NEED TO understand how this function works.\n",
    "    '''\n",
    "    minmax_temps = []\n",
    "    \n",
    "    day = None\n",
    "    hourCount = 0.0\n",
    "    min_temp = 0.0\n",
    "    max_temp = 0.0\n",
    "    \n",
    "    for (h_day, h_min, h_max) in data:\n",
    "        if day is None:\n",
    "            day = h_day\n",
    "            min_temp = h_min\n",
    "            max_temp = h_max\n",
    "            \n",
    "        if day[:10] == h_day[:10]:\n",
    "            hourCount = hourCount + 1.0\n",
    "            if h_min < min_temp:\n",
    "                min_temp = h_min\n",
    "            if h_max > max_temp:\n",
    "                max_temp = h_max\n",
    "        else:\n",
    "            day = day[:10]\n",
    "            day = day.replace('-', '')\n",
    "            day = int(day)\n",
    "            minmax_temp_tuple = (day, min_temp, max_temp)\n",
    "            \n",
    "            minmax_temps.append(minmax_temp_tuple)\n",
    "            \n",
    "            day = None\n",
    "            min_temp = 0.0\n",
    "            max_temp = 0.0\n",
    "            hourCount = 0.0\n",
    "            \n",
    "    return minmax_temps"
   ]
  },
  {
   "cell_type": "code",
   "execution_count": null,
   "metadata": {
    "collapsed": false
   },
   "outputs": [],
   "source": [
    "minmax_temp_list = convert_temp_data_to_schema(hourly_temp_list)\n",
    "\n",
    "# print the converted data\n",
    "print(minmax_temp_list)"
   ]
  },
  {
   "cell_type": "code",
   "execution_count": null,
   "metadata": {
    "collapsed": false
   },
   "outputs": [],
   "source": [
    "cursor.execute(\"DROP TABLE IF EXISTS Temps\")\n",
    "cursor.execute(\"CREATE TABLE Temps(id INT PRIMARY KEY AUTO_INCREMENT, tempDate INT, \\\n",
    "                min DECIMAL(6,3), max DECIMAL(6,3))\")"
   ]
  },
  {
   "cell_type": "markdown",
   "metadata": {},
   "source": [
    "The format for adding a row to our table is:\n",
    "\n",
    "    cursor.execute(\"INSERT INTO Temps(tempDate,min,max) VALUES({day},{min_temp},{max_temp})\")\n",
    "    \n",
    "We will run a for-loop and insert the data into our `Temps` table."
   ]
  },
  {
   "cell_type": "code",
   "execution_count": null,
   "metadata": {
    "collapsed": false
   },
   "outputs": [],
   "source": [
    "for (day, min_temp, max_temp) in minmax_temp_list:\n",
    "    cursor.execute(\"INSERT INTO Temps(tempDate,min,max) VALUES({0},{1},{2})\"\n",
    "                   .format(day, min_temp, max_temp))"
   ]
  },
  {
   "cell_type": "markdown",
   "metadata": {},
   "source": [
    "Let's try to query the data and see if it's all properly stored."
   ]
  },
  {
   "cell_type": "code",
   "execution_count": null,
   "metadata": {
    "collapsed": false
   },
   "outputs": [],
   "source": [
    "cursor.execute(\"SELECT * FROM {0}\".format(\"Temps\"))\n",
    "rows = cursor.fetchall()\n",
    "\n",
    "for row_data in rows:\n",
    "    print(row_data)"
   ]
  },
  {
   "cell_type": "markdown",
   "metadata": {},
   "source": [
    "### Extracting Weather Descriptions `(dt_text, weather[0]['main'], weather[0]['description'])`"
   ]
  },
  {
   "cell_type": "code",
   "execution_count": null,
   "metadata": {
    "collapsed": false
   },
   "outputs": [],
   "source": [
    "# Python dictionary that stores the list data\n",
    "data_points = weather_data['list']\n",
    "# An empty list that will store pairs of temperature and date-time as (temp, date-time)\n",
    "hourly_desc_list = []\n",
    "\n",
    "for datum in data_points:\n",
    "    dt = datum['dt_txt']\n",
    "    weather_main = datum['weather'][0]['main']\n",
    "    weather_desc = datum['weather'][0]['description']\n",
    "    hour_desc_tuple = (dt, weather_main, weather_desc)\n",
    "    hourly_desc_list.append(hour_desc_tuple)\n",
    "    \n",
    "# Print some sample data\n",
    "for i in range(10):\n",
    "    print(hourly_desc_list[i])"
   ]
  },
  {
   "cell_type": "markdown",
   "metadata": {},
   "source": [
    "Similar to the previous table, we want to store our description data using a schema that looks like this:\n",
    "\n",
    "| tempDate | main     | description     |\n",
    "|----------|----------|-----------------|\n",
    "| 20150920 | 'Clear'  | 'sky is clear'  |\n",
    "| 20140921 | 'Cloudy' | 'broken clouds' |\n",
    "| ...      | ...      | ...             |"
   ]
  },
  {
   "cell_type": "code",
   "execution_count": null,
   "metadata": {
    "collapsed": true
   },
   "outputs": [],
   "source": [
    "def convert_desc_data_to_schema(data):\n",
    "    '''\n",
    "    This function takes in a list of hourly weather data as (date_time, main, desc)\n",
    "    and returns the data as a per-day description. You DO NOT NEED TO understand how this function works.\n",
    "    '''\n",
    "    descriptions = []\n",
    "    \n",
    "    day = None\n",
    "    hourCount = 0.0\n",
    "    main = 'Clear'\n",
    "    desc = 'sky is clear'\n",
    "    \n",
    "    for (h_day, h_main, h_desc) in data:\n",
    "        if day is None:\n",
    "            day = h_day\n",
    "            main = h_main\n",
    "            desc = h_desc\n",
    "            \n",
    "        if day[:10] == h_day[:10]:\n",
    "            hourCount = hourCount + 1.0\n",
    "            if h_main != 'Clear':\n",
    "                main = h_main\n",
    "            if h_desc != 'sky is clear':\n",
    "                desc = h_desc\n",
    "        else:\n",
    "            day = day[:10]\n",
    "            day = day.replace('-', '')\n",
    "            day = int(day)\n",
    "            desc_tuple = (day, main, desc)\n",
    "            \n",
    "            descriptions.append(desc_tuple)\n",
    "            \n",
    "            day = None\n",
    "            main = 'Clear'\n",
    "            desc = 'sky is clear'\n",
    "            hourCount = 0.0\n",
    "            \n",
    "    return descriptions"
   ]
  },
  {
   "cell_type": "code",
   "execution_count": null,
   "metadata": {
    "collapsed": false
   },
   "outputs": [],
   "source": [
    "desc_list = convert_desc_data_to_schema(hourly_desc_list)\n",
    "\n",
    "# print the converted data\n",
    "print(desc_list)"
   ]
  },
  {
   "cell_type": "markdown",
   "metadata": {},
   "source": [
    "Data looks great again. Let's store this data in it's own `Descriptions` table."
   ]
  },
  {
   "cell_type": "code",
   "execution_count": null,
   "metadata": {
    "collapsed": false
   },
   "outputs": [],
   "source": [
    "cursor.execute(\"DROP TABLE IF EXISTS Descs\")\n",
    "cursor.execute(\"CREATE TABLE Descs (id INT PRIMARY KEY AUTO_INCREMENT, tempDate INT, \\\n",
    "                main VARCHAR(15), description VARCHAR(25))\")"
   ]
  },
  {
   "cell_type": "markdown",
   "metadata": {},
   "source": [
    "We will use a for-loop again to insert our data. Note how VARCHARs have to be enclosed in single-quotes when inserting them into the database."
   ]
  },
  {
   "cell_type": "code",
   "execution_count": null,
   "metadata": {
    "collapsed": false
   },
   "outputs": [],
   "source": [
    "for (day, main_desc, description) in desc_list:\n",
    "    cursor.execute(\"INSERT INTO Descs(tempDate,main,description) \\\n",
    "                    VALUES({0}, '{1}', '{2}')\".format(day, main_desc, description))"
   ]
  },
  {
   "cell_type": "markdown",
   "metadata": {},
   "source": [
    "Let's query the data again to make sure everything is inserted."
   ]
  },
  {
   "cell_type": "code",
   "execution_count": null,
   "metadata": {
    "collapsed": false
   },
   "outputs": [],
   "source": [
    "cursor.execute(\"SELECT * FROM {0}\".format(\"Descs\"))\n",
    "rows = cursor.fetchall()\n",
    "\n",
    "for row_data in rows:\n",
    "    print(row_data)"
   ]
  },
  {
   "cell_type": "markdown",
   "metadata": {},
   "source": [
    "So all of our data has been stored perfectly. Let's move on to the other program that will query both tables and join the data."
   ]
  },
  {
   "cell_type": "markdown",
   "metadata": {},
   "source": [
    "***\n",
    "## Joining Tables With Related Data"
   ]
  },
  {
   "cell_type": "markdown",
   "metadata": {},
   "source": [
    "This is what the data in our two tables `Temps` and `Descs` looks like now.\n",
    "\n",
    "| tempDate | min    | max    |      | tempDate | main     | description     |\n",
    "|----------|--------|--------|------|----------|----------|-----------------|\n",
    "| 20150920 | 261.63 | 276.77 |      | 20150920 | 'Clear'  | 'sky is clear'  |\n",
    "| 20140921 | 281.44 | 295.32 |      | 20140921 | 'Cloudy' | 'broken clouds' |\n",
    "| ...      | ...    | ...    |      | ...      | ...      | ...             |\n",
    "\n",
    "You can see how there is related data in the two tables. Both tables have a date column, and are followed by columns that describe the weather on that day. Why don't we combine these two tables?\n",
    "\n",
    "For this task, we will use a join clause."
   ]
  },
  {
   "cell_type": "markdown",
   "metadata": {},
   "source": [
    "Here's what SQL joins look like visually:\n",
    "![SQL Join Venn Diagram](http://bilquist.com/wp-content/uploads/2014/06/SQL-Join-Venn-Diagrams.jpg)\n",
    "\n",
    "Since we want to match related data that exist in both tables, we want an intersection of both sets, or in SQL terms, we want to do an inner join."
   ]
  },
  {
   "cell_type": "code",
   "execution_count": null,
   "metadata": {
    "collapsed": false
   },
   "outputs": [],
   "source": [
    "# we want the final output as (date, min_temp, max_temp, main_desc, description)\n",
    "\n",
    "cursor.execute(\"SELECT {0}.tempDate, {0}.min, {0}.max, {1}.main, {1}.description \\\n",
    "                FROM {0} INNER JOIN {1} \\\n",
    "                ON {0}.tempDate = {1}.tempDate\"\n",
    "                .format(\"Temps\",\"Descs\"))\n",
    "rows = cursor.fetchall()\n",
    "\n",
    "plot_data = rows\n",
    "\n",
    "for row_data in rows:\n",
    "    print(row_data)"
   ]
  },
  {
   "cell_type": "markdown",
   "metadata": {},
   "source": [
    "Now that we have this data, let's visualize it!"
   ]
  },
  {
   "cell_type": "code",
   "execution_count": null,
   "metadata": {
    "collapsed": false
   },
   "outputs": [],
   "source": [
    "import matplotlib.pyplot as plt\n",
    "%matplotlib inline\n",
    "\n",
    "days = []\n",
    "min_temps = []\n",
    "max_temps = []\n",
    "\n",
    "for data in plot_data:\n",
    "    day = int(data[0]) % 100\n",
    "    days.append(day)\n",
    "    \n",
    "    min_temp_fah = 1.8 * (int(data[1]) - 273.15) + 32\n",
    "    min_temps.append(min_temp_fah)\n",
    "    \n",
    "    max_temp_fah = 1.8 * (int(data[2]) - 273.15) + 32\n",
    "    max_temps.append(max_temp_fah)\n",
    "\n",
    "plt.plot(days, min_temps, linewidth=2, label='Minimum Temperatures')\n",
    "plt.plot(days, max_temps, linewidth=2, label='Maximum Temperatures')\n",
    "plt.xticks(days)\n",
    "plt.xlabel('Day')\n",
    "plt.ylabel('Temperature')\n",
    "plt.legend(bbox_to_anchor=(1.6, 0.6))\n",
    "plt.show()"
   ]
  }
 ],
 "metadata": {
  "kernelspec": {
   "display_name": "Python 2",
   "language": "python",
   "name": "python2"
  },
  "language_info": {
   "codemirror_mode": {
    "name": "ipython",
    "version": 2
   },
   "file_extension": ".py",
   "mimetype": "text/x-python",
   "name": "python",
   "nbconvert_exporter": "python",
   "pygments_lexer": "ipython2",
   "version": "2.7.6"
  }
 },
 "nbformat": 4,
 "nbformat_minor": 0
}
